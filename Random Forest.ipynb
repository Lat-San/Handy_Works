{
 "cells": [
  {
   "cell_type": "markdown",
   "metadata": {},
   "source": [
    "<h1>Zindi Air Pollution </h1> "
   ]
  },
  {
   "cell_type": "code",
   "execution_count": 243,
   "metadata": {},
   "outputs": [],
   "source": [
    "import pandas as pd\n",
    "import os\n",
    "import sklearn as sk\n",
    "from sklearn.ensemble import RandomForestRegressor as rfr\n",
    "os.chdir('c:\\\\Users\\\\Pascal\\\\Downloads')\n",
    "Dataset = pd.read_csv('Train.csv')"
   ]
  },
  {
   "cell_type": "code",
   "execution_count": 248,
   "metadata": {},
   "outputs": [
    {
     "name": "stderr",
     "output_type": "stream",
     "text": [
      "C:\\Users\\Pascal\\AppData\\Local\\Temp/ipykernel_11928/2419470941.py:3: SettingWithCopyWarning: \n",
      "A value is trying to be set on a copy of a slice from a DataFrame.\n",
      "Try using .loc[row_indexer,col_indexer] = value instead\n",
      "\n",
      "See the caveats in the documentation: https://pandas.pydata.org/pandas-docs/stable/user_guide/indexing.html#returning-a-view-versus-a-copy\n",
      "  Timedata['Quater'] = pd.to_datetime(Timedata['date']).dt.to_period('Q')\n",
      "c:\\Users\\Pascal\\anaconda3\\lib\\site-packages\\pandas\\core\\frame.py:4906: SettingWithCopyWarning: \n",
      "A value is trying to be set on a copy of a slice from a DataFrame\n",
      "\n",
      "See the caveats in the documentation: https://pandas.pydata.org/pandas-docs/stable/user_guide/indexing.html#returning-a-view-versus-a-copy\n",
      "  return super().drop(\n"
     ]
    }
   ],
   "source": [
    "#adding Quaters to dataset\n",
    "Timedata = Dataset[['id', 'country', 'city', 'date', 'hour']]\n",
    "Timedata['Quater'] = pd.to_datetime(Timedata['date']).dt.to_period('Q')\n",
    "Q = []\n",
    "for i in Timedata['Quater']:\n",
    "     Q.append(str(i)[-1:])\n",
    "Dataset['Quaters'] = Q\n",
    "Timedata.drop('Quater', axis = 1, inplace= True)"
   ]
  },
  {
   "cell_type": "code",
   "execution_count": null,
   "metadata": {},
   "outputs": [],
   "source": [
    "#Correlation checks\n",
    "cors = abs(Dataset.corr()['pm2_5']).sort_values(ascending=False)[:20]"
   ]
  },
  {
   "cell_type": "code",
   "execution_count": 251,
   "metadata": {},
   "outputs": [],
   "source": [
    "target = 'pm2_5'\n",
    "non_preds = ['id','site_id', 'site_latitude', 'site_longitude', 'city',  'date', 'hour', target]"
   ]
  },
  {
   "cell_type": "code",
   "execution_count": 252,
   "metadata": {},
   "outputs": [],
   "source": [
    "##fill null values with mean from groupby quater\n",
    "\n",
    "features = Dataset.drop(non_preds, axis= 1)\n",
    "grouped = features.groupby(['country', 'Quaters']).mean()\n",
    "for i in features.columns:\n",
    "    fields = features[i]\n",
    "    dex = 0\n",
    "    for u in fields:\n",
    "        period = features['Quaters'][dex]\n",
    "        place = features['country'][dex]\n",
    "        #print(place)\n",
    "        if pd.isna(u):\n",
    "            features.loc[dex,i] = grouped.loc[place,period][i]\n",
    "            #print(u)\n",
    "        dex += 1\n",
    "\n",
    "            \n"
   ]
  },
  {
   "cell_type": "code",
   "execution_count": 255,
   "metadata": {},
   "outputs": [
    {
     "data": {
      "text/plain": [
       "0.37729842557513593"
      ]
     },
     "execution_count": 255,
     "metadata": {},
     "output_type": "execute_result"
    }
   ],
   "source": [
    "non_preds.append('country')\n",
    "X_train, X_test, y_train, y_test = sk.model_selection.train_test_split(Dataset.drop(non_preds, axis=1).bfill().ffill(), Dataset[target], test_size= 0.4)\n",
    "model = rfr(n_estimators = 50, max_depth = 30, random_state = 2, bootstrap= True, max_samples= 0.3).fit(X=X_train, y=y_train)\n",
    "y_pred = model.predict(X_test)\n",
    "#from sklearn.metrics import report\n",
    "#y_pred\n",
    "model.score(X_test, y_test)"
   ]
  },
  {
   "cell_type": "code",
   "execution_count": null,
   "metadata": {},
   "outputs": [],
   "source": []
  }
 ],
 "metadata": {
  "kernelspec": {
   "display_name": "base",
   "language": "python",
   "name": "python3"
  },
  "language_info": {
   "codemirror_mode": {
    "name": "ipython",
    "version": 3
   },
   "file_extension": ".py",
   "mimetype": "text/x-python",
   "name": "python",
   "nbconvert_exporter": "python",
   "pygments_lexer": "ipython3",
   "version": "3.9.7"
  }
 },
 "nbformat": 4,
 "nbformat_minor": 2
}
